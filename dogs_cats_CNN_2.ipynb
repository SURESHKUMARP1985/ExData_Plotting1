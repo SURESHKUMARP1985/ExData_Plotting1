{
  "nbformat": 4,
  "nbformat_minor": 0,
  "metadata": {
    "colab": {
      "name": "dogs_cats_CNN_2.ipynb",
      "version": "0.3.2",
      "provenance": [],
      "collapsed_sections": [],
      "include_colab_link": true
    },
    "kernelspec": {
      "display_name": "Python 3",
      "language": "python",
      "name": "python3"
    },
    "accelerator": "GPU"
  },
  "cells": [
    {
      "cell_type": "markdown",
      "metadata": {
        "id": "view-in-github",
        "colab_type": "text"
      },
      "source": [
        "[View in Colaboratory](https://colab.research.google.com/github/SURESHKUMARP1985/ExData_Plotting1/blob/master/dogs_cats_CNN_2.ipynb)"
      ]
    },
    {
      "metadata": {
        "id": "piWSLSAQWnjy",
        "colab_type": "code",
        "colab": {}
      },
      "cell_type": "code",
      "source": [
        "##### We need the imutils library which is not default in google colab\n",
        "!pip install imutils"
      ],
      "execution_count": 0,
      "outputs": []
    },
    {
      "metadata": {
        "id": "M8OA_tG6Xz-C",
        "colab_type": "code",
        "colab": {}
      },
      "cell_type": "code",
      "source": [
        "!rm -r data"
      ],
      "execution_count": 0,
      "outputs": []
    },
    {
      "metadata": {
        "id": "d7DnSQuSWnj6",
        "colab_type": "code",
        "colab": {}
      },
      "cell_type": "code",
      "source": [
        "##### downlaod the dogs and cats dataset and save it to a local directory called data\n",
        "!mkdir data && wget http://files.fast.ai/data/dogscats.zip && unzip dogscats.zip -d data/"
      ],
      "execution_count": 0,
      "outputs": []
    },
    {
      "metadata": {
        "id": "QIvoqhZtWnkA",
        "colab_type": "code",
        "colab": {}
      },
      "cell_type": "code",
      "source": [
        "from sklearn.preprocessing import LabelEncoder\n",
        "from sklearn.model_selection import train_test_split\n",
        "from keras.models import Sequential\n",
        "from keras.layers import Activation\n",
        "from keras.optimizers import SGD\n",
        "from keras.layers import Dense, Dropout, Conv2D, MaxPooling2D, Flatten\n",
        "from keras.utils import np_utils\n",
        "from imutils import paths\n",
        "import keras\n",
        "import numpy as np\n",
        "import os\n",
        "import matplotlib.pyplot as plt\n",
        "import cv2"
      ],
      "execution_count": 0,
      "outputs": []
    },
    {
      "metadata": {
        "id": "GEsPb0oGWnkF",
        "colab_type": "code",
        "colab": {}
      },
      "cell_type": "code",
      "source": [
        "#### Extract a list of image file names from the directory to visualise\n",
        "PATH = 'data/dogscats/'\n",
        "#### run the list files command and get the top results and save it into a list object\n",
        "files = !ls {PATH}valid/cats | head \n",
        "print(files)"
      ],
      "execution_count": 0,
      "outputs": []
    },
    {
      "metadata": {
        "id": "pG3ktF_gWnkO",
        "colab_type": "code",
        "colab": {}
      },
      "cell_type": "code",
      "source": [
        "#### Open and Visualise a Single Image\n",
        "img_path = PATH +'valid/cats/'+files[1]\n",
        "img = cv2.imread(img_path)\n",
        "plt.imshow(img)\n",
        "plt.show()"
      ],
      "execution_count": 0,
      "outputs": []
    },
    {
      "metadata": {
        "id": "SMdCjrY6WnkV",
        "colab_type": "code",
        "colab": {}
      },
      "cell_type": "code",
      "source": [
        "#### Lets intialise some list variables\n",
        "data = []\n",
        "labels = []\n",
        "dataset_path = 'data/dogscats/train'\n",
        "\n",
        "#### the imutils paths.list_images function will return the full path of all images\n",
        "#### in the current directory and its sub-directories\n",
        "imagePaths = list(paths.list_images(dataset_path))"
      ],
      "execution_count": 0,
      "outputs": []
    },
    {
      "metadata": {
        "id": "s5Q1nfeRWnka",
        "colab_type": "code",
        "colab": {}
      },
      "cell_type": "code",
      "source": [
        "##### Iterate through all the imagepaths generated previously and load every image\n",
        "##### figure out the label of the image from its path\n",
        "\n",
        "for (i, imagePath) in enumerate(imagePaths):\n",
        "    image = cv2.imread(imagePath)\n",
        "    \n",
        "    #### Extract the label of the image from the image path\n",
        "    label = imagePath.split(os.path.sep)[-1].split(\".\")[0]\n",
        "   \n",
        "    #### Resize the Image and then use the raw pixel values as features\n",
        "    features = cv2.resize(image, (32, 32))\n",
        "    \n",
        "    #### Append the features and labels to our list variables\n",
        "    data.append(features)\n",
        "    labels.append(label)\n",
        "    \n",
        "    # show an update every 1,000 images\n",
        "    if i > 0 and i % 1000 == 0:\n",
        "        print(\"[INFO] processed {}/{}\".format(i, len(imagePaths)))"
      ],
      "execution_count": 0,
      "outputs": []
    },
    {
      "metadata": {
        "id": "dD70xr6AWnkg",
        "colab_type": "code",
        "colab": {}
      },
      "cell_type": "code",
      "source": [
        "##### Print the labels of different objects to see they are different\n",
        "print(labels[0])\n",
        "print(labels[17000])\n",
        "print(data[7000].shape)"
      ],
      "execution_count": 0,
      "outputs": []
    },
    {
      "metadata": {
        "id": "s9NQgaZzWnko",
        "colab_type": "code",
        "colab": {}
      },
      "cell_type": "code",
      "source": [
        "#### Encode the labels to Numerical Values\n",
        "le = LabelEncoder()\n",
        "labels = le.fit_transform(labels)\n",
        "print(labels[0])\n",
        "\n",
        "#### One Hot Encode the Numerical Values\n",
        "labels = np_utils.to_categorical(labels, 2)\n",
        "print(labels[0])\n",
        "\n",
        "#### Scale the input pixel values\n",
        "data = np.array(data) / 255.0\n"
      ],
      "execution_count": 0,
      "outputs": []
    },
    {
      "metadata": {
        "id": "bBCfnz8iWnku",
        "colab_type": "code",
        "colab": {}
      },
      "cell_type": "code",
      "source": [
        "#### Create a train test split\n",
        "(trainData, testData, trainLabels, testLabels) = train_test_split(data, labels, test_size=0.25, random_state=42)"
      ],
      "execution_count": 0,
      "outputs": []
    },
    {
      "metadata": {
        "id": "fKd_bb6rWnkz",
        "colab_type": "code",
        "colab": {}
      },
      "cell_type": "code",
      "source": [
        "# input image dimensions\n",
        "input_shape = data[0].shape\n",
        "model = Sequential()\n",
        "model.add(Conv2D(32, kernel_size=(3, 3), strides=(1, 1),\n",
        "                 activation='relu',\n",
        "                 input_shape=input_shape))\n",
        "model.add(MaxPooling2D(pool_size=(2, 2), strides=(2, 2)))\n",
        "model.add(Conv2D(64, (5, 5), activation='relu'))\n",
        "model.add(MaxPooling2D(pool_size=(2, 2)))\n",
        "model.add(Flatten())\n",
        "model.add(Dense(1000, activation='relu'))\n",
        "model.add(Dense(2, activation='softmax'))"
      ],
      "execution_count": 0,
      "outputs": []
    },
    {
      "metadata": {
        "id": "5uutOA1gWnk3",
        "colab_type": "code",
        "colab": {}
      },
      "cell_type": "code",
      "source": [
        "##### Intialise a Stochastic Gradient Descent Optimiser Object\n",
        "sgd = SGD(lr=0.01)\n",
        "model.compile(loss=\"binary_crossentropy\", optimizer=sgd, metrics=[\"accuracy\"])"
      ],
      "execution_count": 0,
      "outputs": []
    },
    {
      "metadata": {
        "id": "sbT7Bx2TWnlB",
        "colab_type": "code",
        "colab": {}
      },
      "cell_type": "code",
      "source": [
        "#### Train the Model\n",
        "model.fit(trainData, trainLabels, epochs=150, batch_size=64)"
      ],
      "execution_count": 0,
      "outputs": []
    },
    {
      "metadata": {
        "id": "WjrpV-iTWnlJ",
        "colab_type": "code",
        "colab": {}
      },
      "cell_type": "code",
      "source": [
        "(loss, accuracy) = model.evaluate(testData, testLabels, batch_size=64, verbose=1)\n",
        "print(\"[INFO] loss={:.4f}, accuracy: {:.4f}%\".format(loss, accuracy * 100))"
      ],
      "execution_count": 0,
      "outputs": []
    },
    {
      "metadata": {
        "id": "qvPMq6bnWnlP",
        "colab_type": "code",
        "colab": {}
      },
      "cell_type": "code",
      "source": [
        "##### To Predict on a New Unseen Image\n",
        "##### Step1 Laod an unseen image\n",
        "image = cv2.imread(\"data/dogscats/valid/cats/cat.8519.jpg\")\n",
        "plt.imshow(image)\n",
        "plt.show()"
      ],
      "execution_count": 0,
      "outputs": []
    },
    {
      "metadata": {
        "id": "0GrcSTLpWnlV",
        "colab_type": "code",
        "colab": {}
      },
      "cell_type": "code",
      "source": [
        "##### Flatten the test image\n",
        "test_feature = cv2.resize(image, (32, 32))\n",
        "print(test_feature.shape)\n",
        "\n",
        "##### Reshape the test image shape to match the network thats expecting a set of images\n",
        "test_feature = test_feature.reshape(-1,test_feature.shape[0],test_feature.shape[1],test_feature.shape[2])\n",
        "print(test_feature.shape)\n"
      ],
      "execution_count": 0,
      "outputs": []
    },
    {
      "metadata": {
        "id": "NxL1hXS2Wnlb",
        "colab_type": "code",
        "colab": {}
      },
      "cell_type": "code",
      "source": [
        "##### Print Predictions\n",
        "test_prediction = model.predict(test_feature)\n",
        "print(\"[INFO] CAT={:.10f}%, DOG: {:.10f}%\".format(test_prediction[0][0]*100, test_prediction[0][1]*100))"
      ],
      "execution_count": 0,
      "outputs": []
    },
    {
      "metadata": {
        "id": "f65B2-ceFgk0",
        "colab_type": "code",
        "colab": {}
      },
      "cell_type": "code",
      "source": [
        "!pip install -U -q PyDrive\n",
        "from pydrive.auth import GoogleAuth\n",
        "from pydrive.drive import GoogleDrive\n",
        "from google.colab import auth\n",
        "from oauth2client.client import GoogleCredentials\n",
        "\n",
        "\n",
        "# 1. Authenticate and create the PyDrive client.\n",
        "auth.authenticate_user()\n",
        "gauth = GoogleAuth()\n",
        "gauth.credentials = GoogleCredentials.get_application_default()\n",
        "drive = GoogleDrive(gauth)\n",
        "#2. Get the file\n",
        "downloaded = drive.CreateFile({'id':'19PbbBVytGKdmMgeOmqRsXhceGLZGdzci'}) # replace the id with id of file you want to access\n",
        "downloaded.GetContentFile('dog.jpeg')  \n",
        "downloaded = drive.CreateFile({'id':'1SboBUMGeAV0eIJgQBESKWsLgOl3o-rgT'}) # replace the id with id of file you want to access\n",
        "downloaded.GetContentFile('dog2.jpeg')  "
      ],
      "execution_count": 0,
      "outputs": []
    },
    {
      "metadata": {
        "id": "uCeYFVfLGnRE",
        "colab_type": "code",
        "colab": {}
      },
      "cell_type": "code",
      "source": [
        "!wget https://www.petmd.com/sites/default/files/shutterstock_54135856-slide2.jpg -O cat1.jpg\n",
        "!ls"
      ],
      "execution_count": 0,
      "outputs": []
    },
    {
      "metadata": {
        "id": "Vroo7AiwFoZu",
        "colab_type": "code",
        "colab": {}
      },
      "cell_type": "code",
      "source": [
        "##### To Predict on a New Unseen Image\n",
        "##### Step1 Laod an unseen image\n",
        "#image = cv2.imread(\"data/dogscats/valid/cats/cat.10016.jpg\")\n",
        "\n",
        "image = cv2.imread(\"cat1.jpg\")\n",
        "plt.imshow(image)\n",
        "plt.show()\n"
      ],
      "execution_count": 0,
      "outputs": []
    },
    {
      "metadata": {
        "id": "FHN57bcHF7Az",
        "colab_type": "code",
        "colab": {}
      },
      "cell_type": "code",
      "source": [
        "##### Preprocess the test image\n",
        "test_feature = cv2.resize(image, (32, 32))\n",
        "\n",
        "print(test_feature.shape)\n",
        "print(test_feature.shape)\n",
        "\n",
        "test_feature = test_feature.reshape(-1,test_feature.shape[0],test_feature.shape[1],test_feature.shape[2])\n",
        "\n",
        "pr = model.predict_classes(test_feature)\n",
        "pro = model.predict_proba(test_feature)\n",
        "print(pr, pro)"
      ],
      "execution_count": 0,
      "outputs": []
    },
    {
      "metadata": {
        "id": "LzcnA1tUSxFR",
        "colab_type": "code",
        "colab": {}
      },
      "cell_type": "code",
      "source": [
        "from keras.models import model_from_json\n",
        "# serialize model to JSON\n",
        "model_json = model.to_json()\n",
        "with open(\"fruits_model.json\", \"w\") as json_file:\n",
        "    json_file.write(model_json)\n",
        "# serialize weights to HDF5\n",
        "model.save_weights(\"model.h5\")\n",
        "print(\"Saved model to disk\")"
      ],
      "execution_count": 0,
      "outputs": []
    },
    {
      "metadata": {
        "id": "rA-INBmUSx72",
        "colab_type": "code",
        "colab": {}
      },
      "cell_type": "code",
      "source": [
        "!ls\n",
        "from google.colab import files\n",
        "files.download('model.json') "
      ],
      "execution_count": 0,
      "outputs": []
    },
    {
      "metadata": {
        "id": "vM8SdrIbBBXJ",
        "colab_type": "code",
        "colab": {}
      },
      "cell_type": "code",
      "source": [
        "# load json and create model\n",
        "json_file = open('model.json', 'r')\n",
        "loaded_model_json = json_file.read()\n",
        "json_file.close()\n",
        "loaded_model = model_from_json(loaded_model_json)\n",
        "# load weights into new model\n",
        "loaded_model.load_weights(\"model.h5\")\n",
        "print(\"Loaded model from disk\")"
      ],
      "execution_count": 0,
      "outputs": []
    }
  ]
}